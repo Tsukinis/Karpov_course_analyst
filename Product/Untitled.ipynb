{
 "cells": [
  {
   "cell_type": "code",
   "execution_count": 1,
   "metadata": {},
   "outputs": [],
   "source": [
    "import numpy as np\n",
    "import pandas as pd"
   ]
  },
  {
   "cell_type": "code",
   "execution_count": 2,
   "metadata": {},
   "outputs": [
    {
     "data": {
      "text/html": [
       "<div>\n",
       "<style scoped>\n",
       "    .dataframe tbody tr th:only-of-type {\n",
       "        vertical-align: middle;\n",
       "    }\n",
       "\n",
       "    .dataframe tbody tr th {\n",
       "        vertical-align: top;\n",
       "    }\n",
       "\n",
       "    .dataframe thead th {\n",
       "        text-align: right;\n",
       "    }\n",
       "</style>\n",
       "<table border=\"1\" class=\"dataframe\">\n",
       "  <thead>\n",
       "    <tr style=\"text-align: right;\">\n",
       "      <th></th>\n",
       "      <th>ga:date</th>\n",
       "      <th>ga:clientid</th>\n",
       "      <th>userID</th>\n",
       "      <th>ga:transaction_id</th>\n",
       "      <th>ga:revenue</th>\n",
       "      <th>Unnamed: 5</th>\n",
       "      <th>ga:user</th>\n",
       "    </tr>\n",
       "  </thead>\n",
       "  <tbody>\n",
       "    <tr>\n",
       "      <th>0</th>\n",
       "      <td>28-08-2019 12:29:24</td>\n",
       "      <td>2.802509e+08</td>\n",
       "      <td>7,186,054</td>\n",
       "      <td>383919</td>\n",
       "      <td>28103</td>\n",
       "      <td>NaN</td>\n",
       "      <td>141000.0</td>\n",
       "    </tr>\n",
       "    <tr>\n",
       "      <th>1</th>\n",
       "      <td>28-08-2019 12:27:12</td>\n",
       "      <td>8.196637e+08</td>\n",
       "      <td>7,186,010</td>\n",
       "      <td>97225</td>\n",
       "      <td>177697</td>\n",
       "      <td>NaN</td>\n",
       "      <td>NaN</td>\n",
       "    </tr>\n",
       "    <tr>\n",
       "      <th>2</th>\n",
       "      <td>28-08-2019 11:43:24</td>\n",
       "      <td>1.751156e+09</td>\n",
       "      <td>7,184,859</td>\n",
       "      <td>385087</td>\n",
       "      <td>64892</td>\n",
       "      <td>NaN</td>\n",
       "      <td>NaN</td>\n",
       "    </tr>\n",
       "    <tr>\n",
       "      <th>3</th>\n",
       "      <td>28-08-2019 11:40:50</td>\n",
       "      <td>5.515333e+08</td>\n",
       "      <td>7,186,029</td>\n",
       "      <td>385392</td>\n",
       "      <td>38816</td>\n",
       "      <td>NaN</td>\n",
       "      <td>NaN</td>\n",
       "    </tr>\n",
       "    <tr>\n",
       "      <th>4</th>\n",
       "      <td>28-08-2019 11:25:31</td>\n",
       "      <td>4.527935e+08</td>\n",
       "      <td>7,183,548</td>\n",
       "      <td>385871</td>\n",
       "      <td>3112</td>\n",
       "      <td>NaN</td>\n",
       "      <td>NaN</td>\n",
       "    </tr>\n",
       "  </tbody>\n",
       "</table>\n",
       "</div>"
      ],
      "text/plain": [
       "               ga:date   ga:clientid     userID ga:transaction_id  ga:revenue  \\\n",
       "0  28-08-2019 12:29:24  2.802509e+08  7,186,054            383919       28103   \n",
       "1  28-08-2019 12:27:12  8.196637e+08  7,186,010             97225      177697   \n",
       "2  28-08-2019 11:43:24  1.751156e+09  7,184,859            385087       64892   \n",
       "3  28-08-2019 11:40:50  5.515333e+08  7,186,029            385392       38816   \n",
       "4  28-08-2019 11:25:31  4.527935e+08  7,183,548            385871        3112   \n",
       "\n",
       "   Unnamed: 5  ga:user   \n",
       "0         NaN  141000.0  \n",
       "1         NaN       NaN  \n",
       "2         NaN       NaN  \n",
       "3         NaN       NaN  \n",
       "4         NaN       NaN  "
      ]
     },
     "execution_count": 2,
     "metadata": {},
     "output_type": "execute_result"
    }
   ],
   "source": [
    "df = pd.read_csv('https://stepik.org/media/attachments/lesson/423116/august_data.csv')\n",
    "df.head()"
   ]
  },
  {
   "cell_type": "code",
   "execution_count": 3,
   "metadata": {},
   "outputs": [],
   "source": [
    "df['ga:date'] = pd.to_datetime(df['ga:date'])"
   ]
  },
  {
   "cell_type": "code",
   "execution_count": 4,
   "metadata": {},
   "outputs": [],
   "source": [
    "df.drop(columns = ['Unnamed: 5'], inplace = True)"
   ]
  },
  {
   "cell_type": "markdown",
   "metadata": {},
   "source": [
    "Сколько всего имеется уникальных пользователей?\n",
    "\n"
   ]
  },
  {
   "cell_type": "code",
   "execution_count": 5,
   "metadata": {},
   "outputs": [
    {
     "data": {
      "text/html": [
       "<div>\n",
       "<style scoped>\n",
       "    .dataframe tbody tr th:only-of-type {\n",
       "        vertical-align: middle;\n",
       "    }\n",
       "\n",
       "    .dataframe tbody tr th {\n",
       "        vertical-align: top;\n",
       "    }\n",
       "\n",
       "    .dataframe thead th {\n",
       "        text-align: right;\n",
       "    }\n",
       "</style>\n",
       "<table border=\"1\" class=\"dataframe\">\n",
       "  <thead>\n",
       "    <tr style=\"text-align: right;\">\n",
       "      <th></th>\n",
       "      <th>ga:date</th>\n",
       "      <th>ga:clientid</th>\n",
       "      <th>userID</th>\n",
       "      <th>ga:transaction_id</th>\n",
       "      <th>ga:revenue</th>\n",
       "      <th>ga:user</th>\n",
       "    </tr>\n",
       "  </thead>\n",
       "  <tbody>\n",
       "    <tr>\n",
       "      <th>0</th>\n",
       "      <td>2019-08-28 12:29:24</td>\n",
       "      <td>2.802509e+08</td>\n",
       "      <td>7,186,054</td>\n",
       "      <td>383919</td>\n",
       "      <td>28103</td>\n",
       "      <td>141000.0</td>\n",
       "    </tr>\n",
       "    <tr>\n",
       "      <th>1</th>\n",
       "      <td>2019-08-28 12:27:12</td>\n",
       "      <td>8.196637e+08</td>\n",
       "      <td>7,186,010</td>\n",
       "      <td>97225</td>\n",
       "      <td>177697</td>\n",
       "      <td>NaN</td>\n",
       "    </tr>\n",
       "    <tr>\n",
       "      <th>2</th>\n",
       "      <td>2019-08-28 11:43:24</td>\n",
       "      <td>1.751156e+09</td>\n",
       "      <td>7,184,859</td>\n",
       "      <td>385087</td>\n",
       "      <td>64892</td>\n",
       "      <td>NaN</td>\n",
       "    </tr>\n",
       "    <tr>\n",
       "      <th>3</th>\n",
       "      <td>2019-08-28 11:40:50</td>\n",
       "      <td>5.515333e+08</td>\n",
       "      <td>7,186,029</td>\n",
       "      <td>385392</td>\n",
       "      <td>38816</td>\n",
       "      <td>NaN</td>\n",
       "    </tr>\n",
       "    <tr>\n",
       "      <th>4</th>\n",
       "      <td>2019-08-28 11:25:31</td>\n",
       "      <td>4.527935e+08</td>\n",
       "      <td>7,183,548</td>\n",
       "      <td>385871</td>\n",
       "      <td>3112</td>\n",
       "      <td>NaN</td>\n",
       "    </tr>\n",
       "    <tr>\n",
       "      <th>...</th>\n",
       "      <td>...</td>\n",
       "      <td>...</td>\n",
       "      <td>...</td>\n",
       "      <td>...</td>\n",
       "      <td>...</td>\n",
       "      <td>...</td>\n",
       "    </tr>\n",
       "    <tr>\n",
       "      <th>1006</th>\n",
       "      <td>2019-01-08 01:33:53</td>\n",
       "      <td>5.085028e+08</td>\n",
       "      <td>7186781</td>\n",
       "      <td>358692</td>\n",
       "      <td>9280</td>\n",
       "      <td>NaN</td>\n",
       "    </tr>\n",
       "    <tr>\n",
       "      <th>1007</th>\n",
       "      <td>2019-01-08 01:27:45</td>\n",
       "      <td>4.152444e+08</td>\n",
       "      <td>7186780</td>\n",
       "      <td>359792</td>\n",
       "      <td>2899</td>\n",
       "      <td>NaN</td>\n",
       "    </tr>\n",
       "    <tr>\n",
       "      <th>1008</th>\n",
       "      <td>2019-01-08 01:23:40</td>\n",
       "      <td>6.964930e+08</td>\n",
       "      <td>7186782</td>\n",
       "      <td>377751</td>\n",
       "      <td>8900</td>\n",
       "      <td>NaN</td>\n",
       "    </tr>\n",
       "    <tr>\n",
       "      <th>1009</th>\n",
       "      <td>2019-01-08 01:18:14</td>\n",
       "      <td>4.152444e+08</td>\n",
       "      <td>7186780</td>\n",
       "      <td>377721</td>\n",
       "      <td>8204</td>\n",
       "      <td>NaN</td>\n",
       "    </tr>\n",
       "    <tr>\n",
       "      <th>1010</th>\n",
       "      <td>2019-01-08 01:06:38</td>\n",
       "      <td>5.352736e+08</td>\n",
       "      <td>7014062</td>\n",
       "      <td>377748</td>\n",
       "      <td>3032</td>\n",
       "      <td>NaN</td>\n",
       "    </tr>\n",
       "  </tbody>\n",
       "</table>\n",
       "<p>1011 rows × 6 columns</p>\n",
       "</div>"
      ],
      "text/plain": [
       "                 ga:date   ga:clientid     userID ga:transaction_id  \\\n",
       "0    2019-08-28 12:29:24  2.802509e+08  7,186,054            383919   \n",
       "1    2019-08-28 12:27:12  8.196637e+08  7,186,010             97225   \n",
       "2    2019-08-28 11:43:24  1.751156e+09  7,184,859            385087   \n",
       "3    2019-08-28 11:40:50  5.515333e+08  7,186,029            385392   \n",
       "4    2019-08-28 11:25:31  4.527935e+08  7,183,548            385871   \n",
       "...                  ...           ...        ...               ...   \n",
       "1006 2019-01-08 01:33:53  5.085028e+08    7186781            358692   \n",
       "1007 2019-01-08 01:27:45  4.152444e+08    7186780            359792   \n",
       "1008 2019-01-08 01:23:40  6.964930e+08    7186782            377751   \n",
       "1009 2019-01-08 01:18:14  4.152444e+08    7186780            377721   \n",
       "1010 2019-01-08 01:06:38  5.352736e+08    7014062            377748   \n",
       "\n",
       "      ga:revenue  ga:user   \n",
       "0          28103  141000.0  \n",
       "1         177697       NaN  \n",
       "2          64892       NaN  \n",
       "3          38816       NaN  \n",
       "4           3112       NaN  \n",
       "...          ...       ...  \n",
       "1006        9280       NaN  \n",
       "1007        2899       NaN  \n",
       "1008        8900       NaN  \n",
       "1009        8204       NaN  \n",
       "1010        3032       NaN  \n",
       "\n",
       "[1011 rows x 6 columns]"
      ]
     },
     "execution_count": 5,
     "metadata": {},
     "output_type": "execute_result"
    }
   ],
   "source": [
    "df #ga:user"
   ]
  },
  {
   "cell_type": "markdown",
   "metadata": {},
   "source": [
    "Сколько всего имеется клиентов?\n",
    "\n",
    "Note: вспомните, чем клиент отличается от простого пользователя, и какая колонка отвечает за прибыль."
   ]
  },
  {
   "cell_type": "code",
   "execution_count": 6,
   "metadata": {},
   "outputs": [],
   "source": [
    "df.rename(columns={'ga:revenue':'revenue', \n",
    "           'ga:date':'date', \n",
    "           'ga:clientid':'clientid', \n",
    "           'ga:transaction_id':'transaction_id', \n",
    "           'ga:user':'nunique_users'}, inplace = True)"
   ]
  },
  {
   "cell_type": "code",
   "execution_count": 7,
   "metadata": {
    "scrolled": true
   },
   "outputs": [
    {
     "data": {
      "text/plain": [
       "685"
      ]
     },
     "execution_count": 7,
     "metadata": {},
     "output_type": "execute_result"
    }
   ],
   "source": [
    "df.query('revenue != 0').clientid.nunique()"
   ]
  },
  {
   "cell_type": "code",
   "execution_count": 8,
   "metadata": {},
   "outputs": [
    {
     "data": {
      "text/html": [
       "<div>\n",
       "<style scoped>\n",
       "    .dataframe tbody tr th:only-of-type {\n",
       "        vertical-align: middle;\n",
       "    }\n",
       "\n",
       "    .dataframe tbody tr th {\n",
       "        vertical-align: top;\n",
       "    }\n",
       "\n",
       "    .dataframe thead th {\n",
       "        text-align: right;\n",
       "    }\n",
       "</style>\n",
       "<table border=\"1\" class=\"dataframe\">\n",
       "  <thead>\n",
       "    <tr style=\"text-align: right;\">\n",
       "      <th></th>\n",
       "      <th>date</th>\n",
       "      <th>clientid</th>\n",
       "      <th>userID</th>\n",
       "      <th>transaction_id</th>\n",
       "      <th>revenue</th>\n",
       "      <th>ga:user</th>\n",
       "    </tr>\n",
       "  </thead>\n",
       "  <tbody>\n",
       "    <tr>\n",
       "      <th>0</th>\n",
       "      <td>2019-08-28 12:29:24</td>\n",
       "      <td>2.802509e+08</td>\n",
       "      <td>7,186,054</td>\n",
       "      <td>383919</td>\n",
       "      <td>28103</td>\n",
       "      <td>141000.0</td>\n",
       "    </tr>\n",
       "    <tr>\n",
       "      <th>1</th>\n",
       "      <td>2019-08-28 12:27:12</td>\n",
       "      <td>8.196637e+08</td>\n",
       "      <td>7,186,010</td>\n",
       "      <td>97225</td>\n",
       "      <td>177697</td>\n",
       "      <td>NaN</td>\n",
       "    </tr>\n",
       "    <tr>\n",
       "      <th>2</th>\n",
       "      <td>2019-08-28 11:43:24</td>\n",
       "      <td>1.751156e+09</td>\n",
       "      <td>7,184,859</td>\n",
       "      <td>385087</td>\n",
       "      <td>64892</td>\n",
       "      <td>NaN</td>\n",
       "    </tr>\n",
       "    <tr>\n",
       "      <th>3</th>\n",
       "      <td>2019-08-28 11:40:50</td>\n",
       "      <td>5.515333e+08</td>\n",
       "      <td>7,186,029</td>\n",
       "      <td>385392</td>\n",
       "      <td>38816</td>\n",
       "      <td>NaN</td>\n",
       "    </tr>\n",
       "    <tr>\n",
       "      <th>4</th>\n",
       "      <td>2019-08-28 11:25:31</td>\n",
       "      <td>4.527935e+08</td>\n",
       "      <td>7,183,548</td>\n",
       "      <td>385871</td>\n",
       "      <td>3112</td>\n",
       "      <td>NaN</td>\n",
       "    </tr>\n",
       "    <tr>\n",
       "      <th>...</th>\n",
       "      <td>...</td>\n",
       "      <td>...</td>\n",
       "      <td>...</td>\n",
       "      <td>...</td>\n",
       "      <td>...</td>\n",
       "      <td>...</td>\n",
       "    </tr>\n",
       "    <tr>\n",
       "      <th>1006</th>\n",
       "      <td>2019-01-08 01:33:53</td>\n",
       "      <td>5.085028e+08</td>\n",
       "      <td>7186781</td>\n",
       "      <td>358692</td>\n",
       "      <td>9280</td>\n",
       "      <td>NaN</td>\n",
       "    </tr>\n",
       "    <tr>\n",
       "      <th>1007</th>\n",
       "      <td>2019-01-08 01:27:45</td>\n",
       "      <td>4.152444e+08</td>\n",
       "      <td>7186780</td>\n",
       "      <td>359792</td>\n",
       "      <td>2899</td>\n",
       "      <td>NaN</td>\n",
       "    </tr>\n",
       "    <tr>\n",
       "      <th>1008</th>\n",
       "      <td>2019-01-08 01:23:40</td>\n",
       "      <td>6.964930e+08</td>\n",
       "      <td>7186782</td>\n",
       "      <td>377751</td>\n",
       "      <td>8900</td>\n",
       "      <td>NaN</td>\n",
       "    </tr>\n",
       "    <tr>\n",
       "      <th>1009</th>\n",
       "      <td>2019-01-08 01:18:14</td>\n",
       "      <td>4.152444e+08</td>\n",
       "      <td>7186780</td>\n",
       "      <td>377721</td>\n",
       "      <td>8204</td>\n",
       "      <td>NaN</td>\n",
       "    </tr>\n",
       "    <tr>\n",
       "      <th>1010</th>\n",
       "      <td>2019-01-08 01:06:38</td>\n",
       "      <td>5.352736e+08</td>\n",
       "      <td>7014062</td>\n",
       "      <td>377748</td>\n",
       "      <td>3032</td>\n",
       "      <td>NaN</td>\n",
       "    </tr>\n",
       "  </tbody>\n",
       "</table>\n",
       "<p>1011 rows × 6 columns</p>\n",
       "</div>"
      ],
      "text/plain": [
       "                    date      clientid     userID transaction_id  revenue  \\\n",
       "0    2019-08-28 12:29:24  2.802509e+08  7,186,054         383919    28103   \n",
       "1    2019-08-28 12:27:12  8.196637e+08  7,186,010          97225   177697   \n",
       "2    2019-08-28 11:43:24  1.751156e+09  7,184,859         385087    64892   \n",
       "3    2019-08-28 11:40:50  5.515333e+08  7,186,029         385392    38816   \n",
       "4    2019-08-28 11:25:31  4.527935e+08  7,183,548         385871     3112   \n",
       "...                  ...           ...        ...            ...      ...   \n",
       "1006 2019-01-08 01:33:53  5.085028e+08    7186781         358692     9280   \n",
       "1007 2019-01-08 01:27:45  4.152444e+08    7186780         359792     2899   \n",
       "1008 2019-01-08 01:23:40  6.964930e+08    7186782         377751     8900   \n",
       "1009 2019-01-08 01:18:14  4.152444e+08    7186780         377721     8204   \n",
       "1010 2019-01-08 01:06:38  5.352736e+08    7014062         377748     3032   \n",
       "\n",
       "      ga:user   \n",
       "0     141000.0  \n",
       "1          NaN  \n",
       "2          NaN  \n",
       "3          NaN  \n",
       "4          NaN  \n",
       "...        ...  \n",
       "1006       NaN  \n",
       "1007       NaN  \n",
       "1008       NaN  \n",
       "1009       NaN  \n",
       "1010       NaN  \n",
       "\n",
       "[1011 rows x 6 columns]"
      ]
     },
     "execution_count": 8,
     "metadata": {},
     "output_type": "execute_result"
    }
   ],
   "source": [
    "df"
   ]
  },
  {
   "cell_type": "markdown",
   "metadata": {},
   "source": [
    "Далее посчитайте конверсию. В качестве ответа укажите значение в процентах, округленное до сотых."
   ]
  },
  {
   "cell_type": "code",
   "execution_count": 17,
   "metadata": {},
   "outputs": [
    {
     "data": {
      "text/plain": [
       "0.49"
      ]
     },
     "execution_count": 17,
     "metadata": {},
     "output_type": "execute_result"
    }
   ],
   "source": [
    "nunique_users = 141000\n",
    "pay_clients = df.query('revenue != 0').clientid.nunique()\n",
    "conversion_rate = (pay_clients / nunique_users)*100\n",
    "round(conversion_rate,2)"
   ]
  },
  {
   "cell_type": "markdown",
   "metadata": {},
   "source": [
    "Сколько рублей составляет средний чек? Ответ округлите до целого.\n",
    "\n"
   ]
  },
  {
   "cell_type": "code",
   "execution_count": 24,
   "metadata": {},
   "outputs": [],
   "source": [
    "total_revenue = df.revenue.sum()"
   ]
  },
  {
   "cell_type": "code",
   "execution_count": 25,
   "metadata": {},
   "outputs": [],
   "source": [
    "clients = df.query('revenue != 0')"
   ]
  },
  {
   "cell_type": "code",
   "execution_count": 27,
   "metadata": {},
   "outputs": [],
   "source": [
    "total_payments = clients.transaction_id.nunique()"
   ]
  },
  {
   "cell_type": "code",
   "execution_count": 29,
   "metadata": {},
   "outputs": [
    {
     "data": {
      "text/plain": [
       "34458.12660944206"
      ]
     },
     "execution_count": 29,
     "metadata": {},
     "output_type": "execute_result"
    }
   ],
   "source": [
    "mean_payment = np.mean(total_revenue / total_payments)\n",
    "mean_payment"
   ]
  },
  {
   "cell_type": "markdown",
   "metadata": {},
   "source": [
    "Теперь посчитайте повторные покупки (среднее количество покупок на пользователя). Результат округлите до двух знаков после точки."
   ]
  },
  {
   "cell_type": "code",
   "execution_count": 40,
   "metadata": {},
   "outputs": [
    {
     "data": {
      "text/plain": [
       "1.36"
      ]
     },
     "execution_count": 40,
     "metadata": {},
     "output_type": "execute_result"
    }
   ],
   "source": [
    "mean_buy = clients.groupby(['clientid']) \\\n",
    "        .agg({'transaction_id':'count'})['transaction_id'].mean()\n",
    "mean_buy.round(2)"
   ]
  },
  {
   "cell_type": "markdown",
   "metadata": {},
   "source": [
    "Чему равен средний доход на платящего пользователя (ARPPU)? Ответ округлите до целого.\n",
    "\n"
   ]
  },
  {
   "cell_type": "code",
   "execution_count": 47,
   "metadata": {
    "scrolled": true
   },
   "outputs": [
    {
     "data": {
      "text/plain": [
       "46883.0"
      ]
     },
     "execution_count": 47,
     "metadata": {},
     "output_type": "execute_result"
    }
   ],
   "source": [
    "arppu = mean_buy * mean_payment\n",
    "arppu.round()"
   ]
  },
  {
   "cell_type": "markdown",
   "metadata": {},
   "source": [
    "Посчитайте средний доход с пользователя (ARPU). Ответ округлите до целого.\n",
    "\n"
   ]
  },
  {
   "cell_type": "code",
   "execution_count": 49,
   "metadata": {},
   "outputs": [
    {
     "data": {
      "text/plain": [
       "228.0"
      ]
     },
     "execution_count": 49,
     "metadata": {},
     "output_type": "execute_result"
    }
   ],
   "source": [
    "arpu = (conversion_rate/100) * arppu\n",
    "arpu.round()"
   ]
  }
 ],
 "metadata": {
  "kernelspec": {
   "display_name": "Python 3",
   "language": "python",
   "name": "python3"
  },
  "language_info": {
   "codemirror_mode": {
    "name": "ipython",
    "version": 3
   },
   "file_extension": ".py",
   "mimetype": "text/x-python",
   "name": "python",
   "nbconvert_exporter": "python",
   "pygments_lexer": "ipython3",
   "version": "3.7.3"
  }
 },
 "nbformat": 4,
 "nbformat_minor": 4
}
