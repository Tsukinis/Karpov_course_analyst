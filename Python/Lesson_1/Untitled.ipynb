{
 "cells": [
  {
   "cell_type": "code",
   "execution_count": 1,
   "metadata": {},
   "outputs": [],
   "source": [
    "analyst = 'Anatoly'\n",
    "# print(analyst)\n",
    "years = 2\n",
    "has_job = False"
   ]
  },
  {
   "cell_type": "code",
   "execution_count": 2,
   "metadata": {},
   "outputs": [],
   "source": [
    "analyst_2 = 'Olga'\n",
    "years_2 = 3\n",
    "has_job_2 = True"
   ]
  },
  {
   "cell_type": "code",
   "execution_count": 15,
   "metadata": {},
   "outputs": [],
   "source": [
    "analysts = ['Anatoly', 'Olga', 'Beslan']\n",
    "years = [2,3,4]"
   ]
  },
  {
   "cell_type": "code",
   "execution_count": 17,
   "metadata": {},
   "outputs": [
    {
     "data": {
      "text/plain": [
       "['Anatoly', 'Olga', 'Beslan', 'Michael']"
      ]
     },
     "execution_count": 17,
     "metadata": {},
     "output_type": "execute_result"
    }
   ],
   "source": [
    "analysts.append('Michael')\n",
    "analysts"
   ]
  },
  {
   "cell_type": "code",
   "execution_count": 18,
   "metadata": {},
   "outputs": [
    {
     "data": {
      "text/plain": [
       "'Michael'"
      ]
     },
     "execution_count": 18,
     "metadata": {},
     "output_type": "execute_result"
    }
   ],
   "source": [
    "analysts.pop(3)"
   ]
  },
  {
   "cell_type": "code",
   "execution_count": 31,
   "metadata": {},
   "outputs": [],
   "source": [
    "job_years = 2\n",
    "salary = 100000\n",
    "message = 'Bonus is equal to {}'"
   ]
  },
  {
   "cell_type": "code",
   "execution_count": 32,
   "metadata": {
    "scrolled": true
   },
   "outputs": [
    {
     "name": "stdout",
     "output_type": "stream",
     "text": [
      "Bonus is equal to 0.2\n",
      "120000.0\n"
     ]
    }
   ],
   "source": [
    "if job_years <1:\n",
    "    coefficient = 0\n",
    "elif job_years >= 1 and job_years <=2:\n",
    "    coefficient = 0.2\n",
    "else: \n",
    "    coefficient = 0.4\n",
    "new_salary = salary + salary * coefficient\n",
    "\n",
    "print(message.format(coefficient))\n",
    "print(new_salary)"
   ]
  },
  {
   "cell_type": "code",
   "execution_count": 33,
   "metadata": {},
   "outputs": [],
   "source": [
    "job_years = 2\n",
    "salary = 100000\n",
    "message = 'Bonus is equal to {coef}. New salary is {new_salary}'"
   ]
  },
  {
   "cell_type": "code",
   "execution_count": 35,
   "metadata": {},
   "outputs": [
    {
     "name": "stdout",
     "output_type": "stream",
     "text": [
      "Bonus is equal to 0.2. New salary is 120000.0\n"
     ]
    }
   ],
   "source": [
    "if job_years <1:\n",
    "    coefficient = 0\n",
    "elif job_years >= 1 and job_years <=2:\n",
    "    coefficient = 0.2\n",
    "else: \n",
    "    coefficient = 0.4\n",
    "new_salary = salary + salary * coefficient\n",
    "\n",
    "print(message.format(coef = coefficient, new_salary = new_salary))"
   ]
  },
  {
   "cell_type": "markdown",
   "metadata": {},
   "source": [
    "# Задания первого урока (1.4)"
   ]
  },
  {
   "cell_type": "markdown",
   "metadata": {},
   "source": [
    "Начнём с простого - сохраните в переменную age произвольный возраст, выраженный целым числом, а в переменную name какое-нибудь имя в виде строки "
   ]
  },
  {
   "cell_type": "code",
   "execution_count": 60,
   "metadata": {},
   "outputs": [],
   "source": [
    "age = 23\n",
    "name = 'Ilya'"
   ]
  },
  {
   "cell_type": "markdown",
   "metadata": {},
   "source": [
    "Создайте список user_info, содержащий 2 строки (имя и фамилия пользователя), 1 дробное число (зарплата) и 1 целое число (стаж)"
   ]
  },
  {
   "cell_type": "code",
   "execution_count": 61,
   "metadata": {},
   "outputs": [],
   "source": [
    "user_info = ['Ilya', 'Tsukanov', 55.500, 2]"
   ]
  },
  {
   "cell_type": "markdown",
   "metadata": {},
   "source": [
    "Поместите в переменную first первый (то есть нулевой) элемент из списка salaries"
   ]
  },
  {
   "cell_type": "code",
   "execution_count": 62,
   "metadata": {},
   "outputs": [
    {
     "ename": "NameError",
     "evalue": "name 'salaries' is not defined",
     "output_type": "error",
     "traceback": [
      "\u001b[0;31m---------------------------------------------------------------------------\u001b[0m",
      "\u001b[0;31mNameError\u001b[0m                                 Traceback (most recent call last)",
      "\u001b[0;32m<ipython-input-62-994620da730f>\u001b[0m in \u001b[0;36m<module>\u001b[0;34m\u001b[0m\n\u001b[1;32m      1\u001b[0m \u001b[0;31m# salaries is already defined\u001b[0m\u001b[0;34m\u001b[0m\u001b[0;34m\u001b[0m\u001b[0;34m\u001b[0m\u001b[0m\n\u001b[1;32m      2\u001b[0m \u001b[0;31m# Write your code here!)\u001b[0m\u001b[0;34m\u001b[0m\u001b[0;34m\u001b[0m\u001b[0;34m\u001b[0m\u001b[0m\n\u001b[0;32m----> 3\u001b[0;31m \u001b[0mfirst\u001b[0m \u001b[0;34m=\u001b[0m \u001b[0msalaries\u001b[0m\u001b[0;34m[\u001b[0m\u001b[0;36m0\u001b[0m\u001b[0;34m]\u001b[0m\u001b[0;34m\u001b[0m\u001b[0;34m\u001b[0m\u001b[0m\n\u001b[0m",
      "\u001b[0;31mNameError\u001b[0m: name 'salaries' is not defined"
     ]
    }
   ],
   "source": [
    "# salaries is already defined\n",
    "# Write your code here!)\n",
    "first = salaries[0]"
   ]
  },
  {
   "cell_type": "markdown",
   "metadata": {},
   "source": [
    "Добавьте в список users элементы 'Voronov' и 42"
   ]
  },
  {
   "cell_type": "code",
   "execution_count": null,
   "metadata": {},
   "outputs": [],
   "source": [
    "# users already defined\n",
    "# Write your code here!)\n",
    "users.append('Voronov')\n",
    "users.append(42)"
   ]
  },
  {
   "cell_type": "markdown",
   "metadata": {},
   "source": [
    "В переменной user_ages содержится список возрастов клиентов. Напишите петлю, выводящую на печать возраста, которые больше 18\n",
    "\n",
    "Пример данных, которые могут быть в user_ages\n",
    "\n",
    "user_ages = [10, 18, 21, 35, 42, 27, 12, 16]\n",
    "Note: в этом задании нужно печатать эти числа"
   ]
  },
  {
   "cell_type": "code",
   "execution_count": null,
   "metadata": {},
   "outputs": [],
   "source": [
    "# user_ages already defined\n",
    "# Write your code here!)\n",
    "for user_age in user_ages:\n",
    "    if user_age > 18:\n",
    "        print(user_age)"
   ]
  },
  {
   "cell_type": "markdown",
   "metadata": {},
   "source": [
    "Напишите программу, проверяющую стаж работы сотрудника. В переменной worker содержится список, содержащий значения как во 2-ом задании (имя, фамилия, зарплата, стаж). Поместите в переменную status такую строку\n",
    "\n",
    "user_name user_family is position\n",
    "\n",
    "где user_name и user_family - имя и фамилия сотрудника, а position - одна из следующих строк\n",
    "\n",
    "'junior' - стаж меньше 2 лет\n",
    "'middle' - стаж больше либо равен 2 лет\n",
    "'senior' - стаж больше 5 лет \n",
    "Пример данных, которые могут быть в worker\n",
    "\n",
    "worker = ['Olya', 'Silyutina', 350000, 3]\n",
    "Hint: печатать результат не нужно, просто задайте его в переменную status"
   ]
  },
  {
   "cell_type": "code",
   "execution_count": null,
   "metadata": {},
   "outputs": [],
   "source": [
    "# worker is already defined\n",
    "# Write your code here!)\n",
    "status = '{} {} is {}'\n",
    "exp = worker[-1]\n",
    "if exp <2:\n",
    "     position = 'junior'\n",
    "elif 2 <= exp <= 5:\n",
    "    position = 'middle'\n",
    "else:\n",
    "    position = 'senior'\n",
    "status = status.format(worker[0], worker[1], position)"
   ]
  },
  {
   "cell_type": "markdown",
   "metadata": {},
   "source": [
    "В списке values содержатся числовые значения. Создайте список tens и добавьте в него все числа из values, которые делятся на 10 нацело\n",
    "\n",
    "Пример данных, которые могут быть в values\n",
    "\n",
    "values = [12, 134, 10, 47, 100, 20, 50, 160, 210]"
   ]
  },
  {
   "cell_type": "code",
   "execution_count": null,
   "metadata": {},
   "outputs": [],
   "source": [
    "tens = []\n",
    "for value in values:\n",
    "    if (value % 10) == 0:\n",
    "        tens.append(value)"
   ]
  },
  {
   "cell_type": "markdown",
   "metadata": {},
   "source": [
    "⭐️Задание со звёздочкой!⭐️\n",
    "\n",
    "Реализуйте цикл, который пробегается по списку workers со значениями как в 2-ом и 6-ом заданиях, и выводит для каждого сотрудника строку (то есть печатает её для каждого элемента списка)\n",
    "\n",
    "user_name user_family is position\n",
    "\n",
    "где user_name и user_family - имя и фамилия сотрудника, а position - одна из следующих строк\n",
    "\n",
    "'junior' - стаж меньше 2 лет\n",
    "'middle' - стаж больше либо равен 2 лет\n",
    "'senior' - стаж больше 5 лет \n",
    "Пример данных, которые могут быть в workers\n",
    "\n",
    "workers = [['Ivan', 'Ivanov', 100000, 2], ['Petr', 'Petrov', 150000, 2], ['Sidor', 'Sidorov', 200000, 3]]\n",
    "Note: в этом задании нужно печатать эти строки"
   ]
  },
  {
   "cell_type": "code",
   "execution_count": null,
   "metadata": {},
   "outputs": [],
   "source": [
    "for worker in workers:\n",
    "    status = '{} {} is {}'\n",
    "    exp = worker[-1]\n",
    "    if exp <2:\n",
    "        position = 'junior'\n",
    "    elif 2 <= exp <= 5:\n",
    "        position = 'middle'\n",
    "    else:\n",
    "        position = 'senior'\n",
    "    status = status.format(worker[0], worker[1], position)\n",
    "    print(status)"
   ]
  },
  {
   "cell_type": "markdown",
   "metadata": {},
   "source": [
    "⭐️Задание со звёздочкой!⭐️\n",
    "Поместите в список lst числа от 0 (n = 0) до 10 (N = 10) c шагом 2 (dn = 2). Для этого используйте условие while\n",
    "\n",
    "Note: переменные n, N, dn создавать не нужно\n",
    "\n",
    "Note: включая 10"
   ]
  },
  {
   "cell_type": "code",
   "execution_count": 76,
   "metadata": {},
   "outputs": [
    {
     "data": {
      "text/plain": [
       "[0, 2, 4, 6, 8, 10]"
      ]
     },
     "execution_count": 76,
     "metadata": {},
     "output_type": "execute_result"
    }
   ],
   "source": [
    "lst = []\n",
    "n = 0\n",
    "N = 10\n",
    "dn = 2\n",
    "while n <= N:\n",
    "    lst.append(n)\n",
    "    n += dn\n",
    "lst"
   ]
  }
 ],
 "metadata": {
  "kernelspec": {
   "display_name": "Python 3",
   "language": "python",
   "name": "python3"
  },
  "language_info": {
   "codemirror_mode": {
    "name": "ipython",
    "version": 3
   },
   "file_extension": ".py",
   "mimetype": "text/x-python",
   "name": "python",
   "nbconvert_exporter": "python",
   "pygments_lexer": "ipython3",
   "version": "3.7.3"
  }
 },
 "nbformat": 4,
 "nbformat_minor": 4
}
