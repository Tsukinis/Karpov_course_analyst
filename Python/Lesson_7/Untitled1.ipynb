{
 "cells": [
  {
   "cell_type": "markdown",
   "metadata": {},
   "source": [
    "⭐️Задание со звёздочкой!⭐️\n",
    "\n",
    "Загрузите данные из Google Sheets, которые находятся по этой ссылке при помощи библиотеки requests. Посчитайте процент мужчин среди всех посетителей сайта, округлите ответ до целых.\n",
    "\n",
    "Воспользуйтесь этим кодом, чтобы перевести данные из реквеста в пандас"
   ]
  },
  {
   "cell_type": "code",
   "execution_count": 3,
   "metadata": {},
   "outputs": [],
   "source": [
    "import pandas as pd"
   ]
  },
  {
   "cell_type": "code",
   "execution_count": 4,
   "metadata": {},
   "outputs": [],
   "source": [
    "from io import BytesIO\n",
    "import requests\n",
    "\n",
    "\n",
    "req = requests.get('https://docs.google.com/spreadsheets/d/1e3PRXmMNXo9AZZnaol1aHgYxtH6KYaCDymEQlK6jaO8/export?format=csv')\n",
    "data = req.content\n",
    "\n",
    "df = pd.read_csv(BytesIO(data)) #bytes input output - Для считывания бинарных файлов"
   ]
  },
  {
   "cell_type": "code",
   "execution_count": 5,
   "metadata": {},
   "outputs": [
    {
     "data": {
      "text/html": [
       "<div>\n",
       "<style scoped>\n",
       "    .dataframe tbody tr th:only-of-type {\n",
       "        vertical-align: middle;\n",
       "    }\n",
       "\n",
       "    .dataframe tbody tr th {\n",
       "        vertical-align: top;\n",
       "    }\n",
       "\n",
       "    .dataframe thead th {\n",
       "        text-align: right;\n",
       "    }\n",
       "</style>\n",
       "<table border=\"1\" class=\"dataframe\">\n",
       "  <thead>\n",
       "    <tr style=\"text-align: right;\">\n",
       "      <th></th>\n",
       "      <th>date</th>\n",
       "      <th>gender</th>\n",
       "      <th>users</th>\n",
       "    </tr>\n",
       "  </thead>\n",
       "  <tbody>\n",
       "    <tr>\n",
       "      <th>0</th>\n",
       "      <td>2020-06-14</td>\n",
       "      <td>Not specified</td>\n",
       "      <td>150</td>\n",
       "    </tr>\n",
       "    <tr>\n",
       "      <th>1</th>\n",
       "      <td>2020-06-14</td>\n",
       "      <td>male</td>\n",
       "      <td>117</td>\n",
       "    </tr>\n",
       "    <tr>\n",
       "      <th>2</th>\n",
       "      <td>2020-06-14</td>\n",
       "      <td>female</td>\n",
       "      <td>21</td>\n",
       "    </tr>\n",
       "  </tbody>\n",
       "</table>\n",
       "</div>"
      ],
      "text/plain": [
       "         date         gender  users\n",
       "0  2020-06-14  Not specified    150\n",
       "1  2020-06-14           male    117\n",
       "2  2020-06-14         female     21"
      ]
     },
     "execution_count": 5,
     "metadata": {},
     "output_type": "execute_result"
    }
   ],
   "source": [
    "df.head()"
   ]
  },
  {
   "cell_type": "code",
   "execution_count": 11,
   "metadata": {},
   "outputs": [
    {
     "data": {
      "text/plain": [
       "0    52.0\n",
       "1    41.0\n",
       "2     7.0\n",
       "Name: users, dtype: float64"
      ]
     },
     "execution_count": 11,
     "metadata": {},
     "output_type": "execute_result"
    }
   ],
   "source": [
    "df.users.div(df.users.sum()) \\\n",
    "    .mul(100) \\\n",
    "    .round()"
   ]
  },
  {
   "cell_type": "markdown",
   "metadata": {},
   "source": [
    "Скачайте файл с данными посещаемости сайта Яндекс.Метрика здесь. При помощи функции np.where создайте серию, в которую будет записываться 1, если посещения были сделаны роботами с браузера, содержащего Chrome в названии и 0, в других случаях. Поместите получившуюся серию в переменную chrome_robots"
   ]
  },
  {
   "cell_type": "code",
   "execution_count": 12,
   "metadata": {},
   "outputs": [],
   "source": [
    "df_yandex = pd.read_csv('https://stepik.org/media/attachments/lesson/361619/karpov_courses_test.csv')"
   ]
  },
  {
   "cell_type": "code",
   "execution_count": 13,
   "metadata": {},
   "outputs": [
    {
     "data": {
      "text/html": [
       "<div>\n",
       "<style scoped>\n",
       "    .dataframe tbody tr th:only-of-type {\n",
       "        vertical-align: middle;\n",
       "    }\n",
       "\n",
       "    .dataframe tbody tr th {\n",
       "        vertical-align: top;\n",
       "    }\n",
       "\n",
       "    .dataframe thead th {\n",
       "        text-align: right;\n",
       "    }\n",
       "</style>\n",
       "<table border=\"1\" class=\"dataframe\">\n",
       "  <thead>\n",
       "    <tr style=\"text-align: right;\">\n",
       "      <th></th>\n",
       "      <th>date</th>\n",
       "      <th>browser</th>\n",
       "      <th>user_type</th>\n",
       "      <th>users</th>\n",
       "    </tr>\n",
       "  </thead>\n",
       "  <tbody>\n",
       "    <tr>\n",
       "      <th>0</th>\n",
       "      <td>2020-06-14</td>\n",
       "      <td>Google Chrome</td>\n",
       "      <td>People</td>\n",
       "      <td>139</td>\n",
       "    </tr>\n",
       "    <tr>\n",
       "      <th>1</th>\n",
       "      <td>2020-06-14</td>\n",
       "      <td>Chrome Mobile</td>\n",
       "      <td>People</td>\n",
       "      <td>35</td>\n",
       "    </tr>\n",
       "    <tr>\n",
       "      <th>2</th>\n",
       "      <td>2020-06-14</td>\n",
       "      <td>Google Chrome</td>\n",
       "      <td>Robots</td>\n",
       "      <td>28</td>\n",
       "    </tr>\n",
       "    <tr>\n",
       "      <th>3</th>\n",
       "      <td>2020-06-14</td>\n",
       "      <td>Yandex Browser</td>\n",
       "      <td>People</td>\n",
       "      <td>22</td>\n",
       "    </tr>\n",
       "    <tr>\n",
       "      <th>4</th>\n",
       "      <td>2020-06-14</td>\n",
       "      <td>Firefox</td>\n",
       "      <td>People</td>\n",
       "      <td>15</td>\n",
       "    </tr>\n",
       "  </tbody>\n",
       "</table>\n",
       "</div>"
      ],
      "text/plain": [
       "         date         browser user_type  users\n",
       "0  2020-06-14   Google Chrome    People    139\n",
       "1  2020-06-14   Chrome Mobile    People     35\n",
       "2  2020-06-14   Google Chrome    Robots     28\n",
       "3  2020-06-14  Yandex Browser    People     22\n",
       "4  2020-06-14         Firefox    People     15"
      ]
     },
     "execution_count": 13,
     "metadata": {},
     "output_type": "execute_result"
    }
   ],
   "source": [
    "df_yandex.head()"
   ]
  },
  {
   "cell_type": "code",
   "execution_count": 14,
   "metadata": {},
   "outputs": [],
   "source": [
    "import numpy as np"
   ]
  },
  {
   "cell_type": "code",
   "execution_count": 21,
   "metadata": {},
   "outputs": [],
   "source": [
    "chrome_robots=np.where((df_yandex.user_type == 'Robots') & (df_yandex.browser.str.contains('Chrome')),1,0)"
   ]
  },
  {
   "cell_type": "code",
   "execution_count": 28,
   "metadata": {},
   "outputs": [
    {
     "data": {
      "text/plain": [
       "0     0\n",
       "1     0\n",
       "2     1\n",
       "3     0\n",
       "4     0\n",
       "5     0\n",
       "6     0\n",
       "7     0\n",
       "8     0\n",
       "9     0\n",
       "10    0\n",
       "11    0\n",
       "12    0\n",
       "13    0\n",
       "14    0\n",
       "15    0\n",
       "16    0\n",
       "17    0\n",
       "18    0\n",
       "19    1\n",
       "20    0\n",
       "21    0\n",
       "22    0\n",
       "23    0\n",
       "dtype: int64"
      ]
     },
     "execution_count": 28,
     "metadata": {},
     "output_type": "execute_result"
    }
   ],
   "source": [
    "chrome_robots = pd.Series(chrome_robots)\n",
    "chrome_robots"
   ]
  },
  {
   "cell_type": "markdown",
   "metadata": {},
   "source": [
    "⭐️Задание со звёздочкой!⭐️\n",
    "\n",
    "У вас есть датасет по ссылке с данными о кликах и показах по объявлению, в этом датасете есть пропуски. Вычислите количество строк без пропусков в колонке click_type. Запишите ответ в переменную not_nan_count\n",
    "\n",
    "ad_id - id объявления\n",
    "user_id - id пользователя\n",
    "click_type - тип клика (клик по заголовку объявления, клик по центру)"
   ]
  },
  {
   "cell_type": "code",
   "execution_count": 23,
   "metadata": {},
   "outputs": [],
   "source": [
    "df_clicks = pd.read_csv('https://stepik.org/media/attachments/lesson/361619/sample_ads.csv')"
   ]
  },
  {
   "cell_type": "code",
   "execution_count": 29,
   "metadata": {},
   "outputs": [
    {
     "data": {
      "text/html": [
       "<div>\n",
       "<style scoped>\n",
       "    .dataframe tbody tr th:only-of-type {\n",
       "        vertical-align: middle;\n",
       "    }\n",
       "\n",
       "    .dataframe tbody tr th {\n",
       "        vertical-align: top;\n",
       "    }\n",
       "\n",
       "    .dataframe thead th {\n",
       "        text-align: right;\n",
       "    }\n",
       "</style>\n",
       "<table border=\"1\" class=\"dataframe\">\n",
       "  <thead>\n",
       "    <tr style=\"text-align: right;\">\n",
       "      <th></th>\n",
       "      <th>ad_id</th>\n",
       "      <th>user_id</th>\n",
       "      <th>click_type</th>\n",
       "    </tr>\n",
       "  </thead>\n",
       "  <tbody>\n",
       "    <tr>\n",
       "      <th>0</th>\n",
       "      <td>12345</td>\n",
       "      <td>qwert</td>\n",
       "      <td>top</td>\n",
       "    </tr>\n",
       "    <tr>\n",
       "      <th>1</th>\n",
       "      <td>12345</td>\n",
       "      <td>fsssc</td>\n",
       "      <td>center</td>\n",
       "    </tr>\n",
       "    <tr>\n",
       "      <th>2</th>\n",
       "      <td>12345</td>\n",
       "      <td>vfvgg</td>\n",
       "      <td>NaN</td>\n",
       "    </tr>\n",
       "    <tr>\n",
       "      <th>3</th>\n",
       "      <td>12345</td>\n",
       "      <td>asrvv</td>\n",
       "      <td>NaN</td>\n",
       "    </tr>\n",
       "    <tr>\n",
       "      <th>4</th>\n",
       "      <td>12345</td>\n",
       "      <td>tynuy</td>\n",
       "      <td>top</td>\n",
       "    </tr>\n",
       "    <tr>\n",
       "      <th>5</th>\n",
       "      <td>12345</td>\n",
       "      <td>vreio</td>\n",
       "      <td>NaN</td>\n",
       "    </tr>\n",
       "    <tr>\n",
       "      <th>6</th>\n",
       "      <td>12345</td>\n",
       "      <td>oirbv</td>\n",
       "      <td>top</td>\n",
       "    </tr>\n",
       "    <tr>\n",
       "      <th>7</th>\n",
       "      <td>12345</td>\n",
       "      <td>kjvbe</td>\n",
       "      <td>NaN</td>\n",
       "    </tr>\n",
       "    <tr>\n",
       "      <th>8</th>\n",
       "      <td>12345</td>\n",
       "      <td>vkrej</td>\n",
       "      <td>center</td>\n",
       "    </tr>\n",
       "    <tr>\n",
       "      <th>9</th>\n",
       "      <td>12345</td>\n",
       "      <td>krjvb</td>\n",
       "      <td>top</td>\n",
       "    </tr>\n",
       "    <tr>\n",
       "      <th>10</th>\n",
       "      <td>12345</td>\n",
       "      <td>vrejn</td>\n",
       "      <td>top</td>\n",
       "    </tr>\n",
       "    <tr>\n",
       "      <th>11</th>\n",
       "      <td>12345</td>\n",
       "      <td>vrejk</td>\n",
       "      <td>center</td>\n",
       "    </tr>\n",
       "    <tr>\n",
       "      <th>12</th>\n",
       "      <td>12345</td>\n",
       "      <td>pirbv</td>\n",
       "      <td>NaN</td>\n",
       "    </tr>\n",
       "    <tr>\n",
       "      <th>13</th>\n",
       "      <td>12345</td>\n",
       "      <td>mpev</td>\n",
       "      <td>NaN</td>\n",
       "    </tr>\n",
       "    <tr>\n",
       "      <th>14</th>\n",
       "      <td>12345</td>\n",
       "      <td>pi3bvk</td>\n",
       "      <td>top</td>\n",
       "    </tr>\n",
       "    <tr>\n",
       "      <th>15</th>\n",
       "      <td>12345</td>\n",
       "      <td>osbvor</td>\n",
       "      <td>center</td>\n",
       "    </tr>\n",
       "    <tr>\n",
       "      <th>16</th>\n",
       "      <td>12345</td>\n",
       "      <td>vrbuo</td>\n",
       "      <td>NaN</td>\n",
       "    </tr>\n",
       "    <tr>\n",
       "      <th>17</th>\n",
       "      <td>12345</td>\n",
       "      <td>o3b0v</td>\n",
       "      <td>top</td>\n",
       "    </tr>\n",
       "  </tbody>\n",
       "</table>\n",
       "</div>"
      ],
      "text/plain": [
       "    ad_id user_id click_type\n",
       "0   12345   qwert        top\n",
       "1   12345   fsssc     center\n",
       "2   12345   vfvgg        NaN\n",
       "3   12345   asrvv        NaN\n",
       "4   12345   tynuy        top\n",
       "5   12345   vreio        NaN\n",
       "6   12345   oirbv        top\n",
       "7   12345   kjvbe        NaN\n",
       "8   12345   vkrej     center\n",
       "9   12345   krjvb        top\n",
       "10  12345   vrejn        top\n",
       "11  12345   vrejk     center\n",
       "12  12345   pirbv        NaN\n",
       "13  12345    mpev        NaN\n",
       "14  12345  pi3bvk        top\n",
       "15  12345  osbvor     center\n",
       "16  12345   vrbuo        NaN\n",
       "17  12345   o3b0v        top"
      ]
     },
     "execution_count": 29,
     "metadata": {},
     "output_type": "execute_result"
    }
   ],
   "source": [
    "df_clicks"
   ]
  },
  {
   "cell_type": "code",
   "execution_count": 31,
   "metadata": {},
   "outputs": [
    {
     "data": {
      "text/plain": [
       "11"
      ]
     },
     "execution_count": 31,
     "metadata": {},
     "output_type": "execute_result"
    }
   ],
   "source": [
    "not_nan_count = df_clicks.click_type.notna().sum()\n",
    "not_nan_count"
   ]
  },
  {
   "cell_type": "markdown",
   "metadata": {},
   "source": [
    "⭐️Задание со звёздочкой!⭐️\n",
    "\n",
    "В списке lst находятся различные элементы. Создайте списк new_list и сделайте следующее:\n",
    "\n",
    "при помощи конструкции try except и цикла попробуйте преобразовать каждое значение в листе в int\n",
    "если это получилось - добавьте преобразованное значение  в список new_list"
   ]
  },
  {
   "cell_type": "code",
   "execution_count": 33,
   "metadata": {},
   "outputs": [],
   "source": [
    "lst = ['0','2','5']\n",
    "new_list = []\n",
    "for element in lst:\n",
    "    try:\n",
    "        new_list.append(int(element))\n",
    "    except:\n",
    "        continue"
   ]
  },
  {
   "cell_type": "markdown",
   "metadata": {},
   "source": [
    "⭐️Задание со звёздочкой!⭐️\n",
    "\n",
    "А теперь попробуем воспользоваться знаниями использования Telegram API. Отправьте себе в личку любое послание, а в ответ к этому шагу напишите ник бота, от имени которого будете отправлять сообщения."
   ]
  },
  {
   "cell_type": "markdown",
   "metadata": {},
   "source": [
    "https://stepik.org/lesson/443583/step/15?unit=433753"
   ]
  },
  {
   "cell_type": "markdown",
   "metadata": {},
   "source": [
    "# Отправка сообщений "
   ]
  },
  {
   "cell_type": "code",
   "execution_count": 36,
   "metadata": {},
   "outputs": [],
   "source": [
    "import requests\n",
    "import json\n",
    "from urllib.parse import urlencode\n",
    "with open('/home/jupyter-i.tsukanov-7/Lesson_7/test.json') as src:\n",
    "    data = json.load(src)\n",
    "    \n",
    "token = '1480674807:AAGhlYdif-sCATyBBF9rpAHVPPwpJj1PBDo'\n",
    "chat_id = 166754739  # your chat id\n",
    "\n",
    "message = 'test'  # text which you want to send\n",
    "\n",
    "params = {'chat_id': chat_id, 'text': message}\n",
    "\n",
    "base_url = f'https://api.telegram.org/bot1480674807:AAGhlYdif-sCATyBBF9rpAHVPPwpJj1PBDo/'\n",
    "url = base_url + 'sendMessage?' + urlencode(params)\n",
    "# Only if you need it\n",
    "# proxy = {'https': 'https://77.48.23.199:57842'}\n",
    "\n",
    "# To send request via proxy\n",
    "# resp = requests.get(url, proxies=proxy)\n",
    "resp = requests.get(url)"
   ]
  },
  {
   "cell_type": "markdown",
   "metadata": {},
   "source": [
    "# Минипроект\n"
   ]
  },
  {
   "cell_type": "markdown",
   "metadata": {},
   "source": [
    "Наш новый дополнительный минипроект довольно специфичен (у меня особые вкусы), а всё дело в том, что сейчас нам не нужно анализировать сами данные – нам просто нужно привести данные в порядок\n",
    "\n",
    "Ваш друг из соседнего отдела прислал вам файл, где он собирал информацию о сделках с компаниями в течение нескольких месяцев. К сожалению, друг не особо аккуратен, и не знал, какой ужасный формат он выбрал...\n",
    "\n",
    "Нужно собрать все данные в нормальный датафрэйм, и сказать другу, чтобы хранил данные аккуратнее"
   ]
  },
  {
   "cell_type": "code",
   "execution_count": 31,
   "metadata": {},
   "outputs": [],
   "source": [
    "import pandas as pd"
   ]
  },
  {
   "cell_type": "code",
   "execution_count": 32,
   "metadata": {},
   "outputs": [],
   "source": [
    "df = pd.read_excel('https://stepik.org/media/attachments/course/72204/tables.xlsx')"
   ]
  },
  {
   "cell_type": "code",
   "execution_count": 33,
   "metadata": {},
   "outputs": [
    {
     "data": {
      "text/html": [
       "<div>\n",
       "<style scoped>\n",
       "    .dataframe tbody tr th:only-of-type {\n",
       "        vertical-align: middle;\n",
       "    }\n",
       "\n",
       "    .dataframe tbody tr th {\n",
       "        vertical-align: top;\n",
       "    }\n",
       "\n",
       "    .dataframe thead th {\n",
       "        text-align: right;\n",
       "    }\n",
       "</style>\n",
       "<table border=\"1\" class=\"dataframe\">\n",
       "  <thead>\n",
       "    <tr style=\"text-align: right;\">\n",
       "      <th></th>\n",
       "      <th>Unnamed: 0</th>\n",
       "      <th>company41</th>\n",
       "      <th>company51</th>\n",
       "      <th>company50</th>\n",
       "      <th>company76</th>\n",
       "      <th>company47</th>\n",
       "      <th>company27</th>\n",
       "      <th>company48</th>\n",
       "    </tr>\n",
       "  </thead>\n",
       "  <tbody>\n",
       "    <tr>\n",
       "      <th>0</th>\n",
       "      <td>NaN</td>\n",
       "      <td>580</td>\n",
       "      <td>198</td>\n",
       "      <td>968</td>\n",
       "      <td>220</td>\n",
       "      <td>788</td>\n",
       "      <td>554</td>\n",
       "      <td>479</td>\n",
       "    </tr>\n",
       "    <tr>\n",
       "      <th>1</th>\n",
       "      <td>NaN</td>\n",
       "      <td>786</td>\n",
       "      <td>271</td>\n",
       "      <td>69</td>\n",
       "      <td>566</td>\n",
       "      <td>NaN</td>\n",
       "      <td>193</td>\n",
       "      <td>636</td>\n",
       "    </tr>\n",
       "    <tr>\n",
       "      <th>2</th>\n",
       "      <td>NaN</td>\n",
       "      <td>578</td>\n",
       "      <td>NaN</td>\n",
       "      <td>526</td>\n",
       "      <td>74</td>\n",
       "      <td>984</td>\n",
       "      <td>581</td>\n",
       "      <td>951</td>\n",
       "    </tr>\n",
       "    <tr>\n",
       "      <th>3</th>\n",
       "      <td>NaN</td>\n",
       "      <td>614</td>\n",
       "      <td>NaN</td>\n",
       "      <td>589</td>\n",
       "      <td>575</td>\n",
       "      <td>85</td>\n",
       "      <td>122</td>\n",
       "      <td>454</td>\n",
       "    </tr>\n",
       "    <tr>\n",
       "      <th>4</th>\n",
       "      <td>NaN</td>\n",
       "      <td>44</td>\n",
       "      <td>849</td>\n",
       "      <td>992</td>\n",
       "      <td>155</td>\n",
       "      <td>527</td>\n",
       "      <td>33</td>\n",
       "      <td>NaN</td>\n",
       "    </tr>\n",
       "  </tbody>\n",
       "</table>\n",
       "</div>"
      ],
      "text/plain": [
       "  Unnamed: 0 company41 company51 company50 company76 company47 company27  \\\n",
       "0        NaN       580       198       968       220       788       554   \n",
       "1        NaN       786       271        69       566       NaN       193   \n",
       "2        NaN       578       NaN       526        74       984       581   \n",
       "3        NaN       614       NaN       589       575        85       122   \n",
       "4        NaN        44       849       992       155       527        33   \n",
       "\n",
       "  company48  \n",
       "0       479  \n",
       "1       636  \n",
       "2       951  \n",
       "3       454  \n",
       "4       NaN  "
      ]
     },
     "execution_count": 33,
     "metadata": {},
     "output_type": "execute_result"
    }
   ],
   "source": [
    "df.head()"
   ]
  },
  {
   "cell_type": "code",
   "execution_count": 34,
   "metadata": {},
   "outputs": [
    {
     "data": {
      "text/plain": [
       "1    22\n",
       "2     9\n",
       "8     8\n",
       "3     4\n",
       "4     1\n",
       "dtype: int64"
      ]
     },
     "execution_count": 34,
     "metadata": {},
     "output_type": "execute_result"
    }
   ],
   "source": [
    "df.isna().sum(1).value_counts() #посчитаем кол-во nan в строке"
   ]
  },
  {
   "cell_type": "code",
   "execution_count": 35,
   "metadata": {},
   "outputs": [],
   "source": [
    "df.dropna(how='all', inplace = True)"
   ]
  },
  {
   "cell_type": "code",
   "execution_count": 36,
   "metadata": {},
   "outputs": [],
   "source": [
    "df.reset_index(drop = True, inplace = True) #убираем индексы, т.к. они не проставлены нормально (ломается очередность)"
   ]
  },
  {
   "cell_type": "code",
   "execution_count": 37,
   "metadata": {},
   "outputs": [
    {
     "data": {
      "text/plain": [
       "Unnamed: 0    31\n",
       "company41      0\n",
       "company51      2\n",
       "company50      5\n",
       "company76      3\n",
       "company47      5\n",
       "company27      3\n",
       "company48      7\n",
       "dtype: int64"
      ]
     },
     "execution_count": 37,
     "metadata": {},
     "output_type": "execute_result"
    }
   ],
   "source": [
    "df.isna().sum()"
   ]
  },
  {
   "cell_type": "code",
   "execution_count": 38,
   "metadata": {},
   "outputs": [],
   "source": [
    "part_df = df.loc[df['Unnamed: 0'].notna()].copy() #найдем все строки, в которых Unnamed: 0 не пустой\n",
    "# copy() копируем дф, чтобы не изменился исходный"
   ]
  },
  {
   "cell_type": "code",
   "execution_count": 39,
   "metadata": {},
   "outputs": [],
   "source": [
    "part_df.drop(columns = ['company48'], inplace = True)"
   ]
  },
  {
   "cell_type": "code",
   "execution_count": 40,
   "metadata": {},
   "outputs": [
    {
     "data": {
      "text/html": [
       "<div>\n",
       "<style scoped>\n",
       "    .dataframe tbody tr th:only-of-type {\n",
       "        vertical-align: middle;\n",
       "    }\n",
       "\n",
       "    .dataframe tbody tr th {\n",
       "        vertical-align: top;\n",
       "    }\n",
       "\n",
       "    .dataframe thead th {\n",
       "        text-align: right;\n",
       "    }\n",
       "</style>\n",
       "<table border=\"1\" class=\"dataframe\">\n",
       "  <thead>\n",
       "    <tr style=\"text-align: right;\">\n",
       "      <th></th>\n",
       "      <th>Unnamed: 0</th>\n",
       "      <th>company41</th>\n",
       "      <th>company51</th>\n",
       "      <th>company50</th>\n",
       "      <th>company76</th>\n",
       "      <th>company47</th>\n",
       "      <th>company27</th>\n",
       "    </tr>\n",
       "  </thead>\n",
       "  <tbody>\n",
       "    <tr>\n",
       "      <th>18</th>\n",
       "      <td>company41</td>\n",
       "      <td>company51</td>\n",
       "      <td>company50</td>\n",
       "      <td>company76</td>\n",
       "      <td>company47</td>\n",
       "      <td>company27</td>\n",
       "      <td>company48</td>\n",
       "    </tr>\n",
       "    <tr>\n",
       "      <th>19</th>\n",
       "      <td>16</td>\n",
       "      <td>151</td>\n",
       "      <td>217</td>\n",
       "      <td>144</td>\n",
       "      <td>993</td>\n",
       "      <td>633</td>\n",
       "      <td>747</td>\n",
       "    </tr>\n",
       "    <tr>\n",
       "      <th>20</th>\n",
       "      <td>819</td>\n",
       "      <td>43</td>\n",
       "      <td>660</td>\n",
       "      <td>NaN</td>\n",
       "      <td>312</td>\n",
       "      <td>936</td>\n",
       "      <td>983</td>\n",
       "    </tr>\n",
       "    <tr>\n",
       "      <th>21</th>\n",
       "      <td>227</td>\n",
       "      <td>783</td>\n",
       "      <td>589</td>\n",
       "      <td>NaN</td>\n",
       "      <td>516</td>\n",
       "      <td>782</td>\n",
       "      <td>736</td>\n",
       "    </tr>\n",
       "    <tr>\n",
       "      <th>22</th>\n",
       "      <td>625</td>\n",
       "      <td>858</td>\n",
       "      <td>228</td>\n",
       "      <td>NaN</td>\n",
       "      <td>832</td>\n",
       "      <td>197</td>\n",
       "      <td>116</td>\n",
       "    </tr>\n",
       "  </tbody>\n",
       "</table>\n",
       "</div>"
      ],
      "text/plain": [
       "   Unnamed: 0  company41  company51  company50  company76  company47  \\\n",
       "18  company41  company51  company50  company76  company47  company27   \n",
       "19         16        151        217        144        993        633   \n",
       "20        819         43        660        NaN        312        936   \n",
       "21        227        783        589        NaN        516        782   \n",
       "22        625        858        228        NaN        832        197   \n",
       "\n",
       "    company27  \n",
       "18  company48  \n",
       "19        747  \n",
       "20        983  \n",
       "21        736  \n",
       "22        116  "
      ]
     },
     "execution_count": 40,
     "metadata": {},
     "output_type": "execute_result"
    }
   ],
   "source": [
    "part_df"
   ]
  },
  {
   "cell_type": "code",
   "execution_count": 41,
   "metadata": {},
   "outputs": [],
   "source": [
    "part_df.columns = part_df.loc[18]"
   ]
  },
  {
   "cell_type": "code",
   "execution_count": 42,
   "metadata": {
    "scrolled": true
   },
   "outputs": [
    {
     "data": {
      "text/html": [
       "<div>\n",
       "<style scoped>\n",
       "    .dataframe tbody tr th:only-of-type {\n",
       "        vertical-align: middle;\n",
       "    }\n",
       "\n",
       "    .dataframe tbody tr th {\n",
       "        vertical-align: top;\n",
       "    }\n",
       "\n",
       "    .dataframe thead th {\n",
       "        text-align: right;\n",
       "    }\n",
       "</style>\n",
       "<table border=\"1\" class=\"dataframe\">\n",
       "  <thead>\n",
       "    <tr style=\"text-align: right;\">\n",
       "      <th>18</th>\n",
       "      <th>company41</th>\n",
       "      <th>company51</th>\n",
       "      <th>company50</th>\n",
       "      <th>company76</th>\n",
       "      <th>company47</th>\n",
       "      <th>company27</th>\n",
       "      <th>company48</th>\n",
       "    </tr>\n",
       "  </thead>\n",
       "  <tbody>\n",
       "    <tr>\n",
       "      <th>18</th>\n",
       "      <td>company41</td>\n",
       "      <td>company51</td>\n",
       "      <td>company50</td>\n",
       "      <td>company76</td>\n",
       "      <td>company47</td>\n",
       "      <td>company27</td>\n",
       "      <td>company48</td>\n",
       "    </tr>\n",
       "    <tr>\n",
       "      <th>19</th>\n",
       "      <td>16</td>\n",
       "      <td>151</td>\n",
       "      <td>217</td>\n",
       "      <td>144</td>\n",
       "      <td>993</td>\n",
       "      <td>633</td>\n",
       "      <td>747</td>\n",
       "    </tr>\n",
       "    <tr>\n",
       "      <th>20</th>\n",
       "      <td>819</td>\n",
       "      <td>43</td>\n",
       "      <td>660</td>\n",
       "      <td>NaN</td>\n",
       "      <td>312</td>\n",
       "      <td>936</td>\n",
       "      <td>983</td>\n",
       "    </tr>\n",
       "    <tr>\n",
       "      <th>21</th>\n",
       "      <td>227</td>\n",
       "      <td>783</td>\n",
       "      <td>589</td>\n",
       "      <td>NaN</td>\n",
       "      <td>516</td>\n",
       "      <td>782</td>\n",
       "      <td>736</td>\n",
       "    </tr>\n",
       "    <tr>\n",
       "      <th>22</th>\n",
       "      <td>625</td>\n",
       "      <td>858</td>\n",
       "      <td>228</td>\n",
       "      <td>NaN</td>\n",
       "      <td>832</td>\n",
       "      <td>197</td>\n",
       "      <td>116</td>\n",
       "    </tr>\n",
       "  </tbody>\n",
       "</table>\n",
       "</div>"
      ],
      "text/plain": [
       "18  company41  company51  company50  company76  company47  company27  \\\n",
       "18  company41  company51  company50  company76  company47  company27   \n",
       "19         16        151        217        144        993        633   \n",
       "20        819         43        660        NaN        312        936   \n",
       "21        227        783        589        NaN        516        782   \n",
       "22        625        858        228        NaN        832        197   \n",
       "\n",
       "18  company48  \n",
       "18  company48  \n",
       "19        747  \n",
       "20        983  \n",
       "21        736  \n",
       "22        116  "
      ]
     },
     "execution_count": 42,
     "metadata": {},
     "output_type": "execute_result"
    }
   ],
   "source": [
    "part_df"
   ]
  },
  {
   "cell_type": "code",
   "execution_count": 43,
   "metadata": {},
   "outputs": [],
   "source": [
    "part_df.drop(index = 18, inplace = True)"
   ]
  },
  {
   "cell_type": "code",
   "execution_count": 44,
   "metadata": {},
   "outputs": [],
   "source": [
    "df = df.loc[df['Unnamed: 0'].isna()]"
   ]
  },
  {
   "cell_type": "code",
   "execution_count": 45,
   "metadata": {},
   "outputs": [
    {
     "data": {
      "text/plain": [
       "Unnamed: 0    31\n",
       "company41      0\n",
       "company51      2\n",
       "company50      2\n",
       "company76      3\n",
       "company47      5\n",
       "company27      3\n",
       "company48      2\n",
       "dtype: int64"
      ]
     },
     "execution_count": 45,
     "metadata": {},
     "output_type": "execute_result"
    }
   ],
   "source": [
    "df.isna().sum()"
   ]
  },
  {
   "cell_type": "code",
   "execution_count": 46,
   "metadata": {},
   "outputs": [],
   "source": [
    "df.drop(columns=['Unnamed: 0'], inplace = True)"
   ]
  },
  {
   "cell_type": "code",
   "execution_count": 47,
   "metadata": {},
   "outputs": [
    {
     "data": {
      "text/plain": [
       "[7, 14, 23, 30]"
      ]
     },
     "execution_count": 47,
     "metadata": {},
     "output_type": "execute_result"
    }
   ],
   "source": [
    "columns = []\n",
    "for i, row in df.iterrows():\n",
    "    try:\n",
    "        row.astype(float)\n",
    "    except:\n",
    "        columns.append(i)\n",
    "columns"
   ]
  },
  {
   "cell_type": "code",
   "execution_count": 48,
   "metadata": {},
   "outputs": [
    {
     "data": {
      "text/html": [
       "<div>\n",
       "<style scoped>\n",
       "    .dataframe tbody tr th:only-of-type {\n",
       "        vertical-align: middle;\n",
       "    }\n",
       "\n",
       "    .dataframe tbody tr th {\n",
       "        vertical-align: top;\n",
       "    }\n",
       "\n",
       "    .dataframe thead th {\n",
       "        text-align: right;\n",
       "    }\n",
       "</style>\n",
       "<table border=\"1\" class=\"dataframe\">\n",
       "  <thead>\n",
       "    <tr style=\"text-align: right;\">\n",
       "      <th></th>\n",
       "      <th>company41</th>\n",
       "      <th>company51</th>\n",
       "      <th>company50</th>\n",
       "      <th>company76</th>\n",
       "      <th>company47</th>\n",
       "      <th>company27</th>\n",
       "      <th>company48</th>\n",
       "    </tr>\n",
       "  </thead>\n",
       "  <tbody>\n",
       "    <tr>\n",
       "      <th>7</th>\n",
       "      <td>company41</td>\n",
       "      <td>company51</td>\n",
       "      <td>company50</td>\n",
       "      <td>company76</td>\n",
       "      <td>company47</td>\n",
       "      <td>company27</td>\n",
       "      <td>company48</td>\n",
       "    </tr>\n",
       "    <tr>\n",
       "      <th>14</th>\n",
       "      <td>company41</td>\n",
       "      <td>company51</td>\n",
       "      <td>company50</td>\n",
       "      <td>company76</td>\n",
       "      <td>company47</td>\n",
       "      <td>company27</td>\n",
       "      <td>company48</td>\n",
       "    </tr>\n",
       "    <tr>\n",
       "      <th>23</th>\n",
       "      <td>company41</td>\n",
       "      <td>company51</td>\n",
       "      <td>company50</td>\n",
       "      <td>company76</td>\n",
       "      <td>company47</td>\n",
       "      <td>company27</td>\n",
       "      <td>company48</td>\n",
       "    </tr>\n",
       "    <tr>\n",
       "      <th>30</th>\n",
       "      <td>company41</td>\n",
       "      <td>company51</td>\n",
       "      <td>company50</td>\n",
       "      <td>company76</td>\n",
       "      <td>company47</td>\n",
       "      <td>company27</td>\n",
       "      <td>company48</td>\n",
       "    </tr>\n",
       "  </tbody>\n",
       "</table>\n",
       "</div>"
      ],
      "text/plain": [
       "    company41  company51  company50  company76  company47  company27  \\\n",
       "7   company41  company51  company50  company76  company47  company27   \n",
       "14  company41  company51  company50  company76  company47  company27   \n",
       "23  company41  company51  company50  company76  company47  company27   \n",
       "30  company41  company51  company50  company76  company47  company27   \n",
       "\n",
       "    company48  \n",
       "7   company48  \n",
       "14  company48  \n",
       "23  company48  \n",
       "30  company48  "
      ]
     },
     "execution_count": 48,
     "metadata": {},
     "output_type": "execute_result"
    }
   ],
   "source": [
    "df.loc[columns]"
   ]
  },
  {
   "cell_type": "code",
   "execution_count": 49,
   "metadata": {},
   "outputs": [],
   "source": [
    "df.drop(index = columns, inplace = True)"
   ]
  },
  {
   "cell_type": "code",
   "execution_count": 50,
   "metadata": {},
   "outputs": [],
   "source": [
    "df = pd.concat((df, part_df))"
   ]
  },
  {
   "cell_type": "code",
   "execution_count": 51,
   "metadata": {},
   "outputs": [
    {
     "data": {
      "text/plain": [
       "14918"
      ]
     },
     "execution_count": 51,
     "metadata": {},
     "output_type": "execute_result"
    }
   ],
   "source": [
    "df.company41.sum()"
   ]
  }
 ],
 "metadata": {
  "kernelspec": {
   "display_name": "Python 3",
   "language": "python",
   "name": "python3"
  },
  "language_info": {
   "codemirror_mode": {
    "name": "ipython",
    "version": 3
   },
   "file_extension": ".py",
   "mimetype": "text/x-python",
   "name": "python",
   "nbconvert_exporter": "python",
   "pygments_lexer": "ipython3",
   "version": "3.7.3"
  }
 },
 "nbformat": 4,
 "nbformat_minor": 4
}
